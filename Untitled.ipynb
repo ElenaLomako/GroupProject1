{
 "cells": [
  {
   "cell_type": "code",
   "execution_count": 1,
   "id": "0c546fc8",
   "metadata": {},
   "outputs": [],
   "source": [
    "# Dependencies\n",
    "import requests \n",
    "import json\n",
    "import pandas as pd\n",
    "import matplotlib.pyplot as plt \n",
    "import numpy as np\n",
    "from pathlib import Path\n"
   ]
  },
  {
   "cell_type": "code",
   "execution_count": 2,
   "id": "da9beef4",
   "metadata": {},
   "outputs": [
    {
     "name": "stdout",
     "output_type": "stream",
     "text": [
      "no stored variable or alias select_states_population_change_df\n",
      "no stored variable or alias select_states_total_population_df\n"
     ]
    }
   ],
   "source": [
    "%store -r select_states_population_change_df\n",
    "%store -r select_states_total_population_df \n",
    "%store -r state_rental_df\n",
    "%store -r per_rental_df"
   ]
  },
  {
   "cell_type": "code",
   "execution_count": null,
   "id": "ecac4956",
   "metadata": {},
   "outputs": [],
   "source": []
  }
 ],
 "metadata": {
  "kernelspec": {
   "display_name": "PythonData",
   "language": "python",
   "name": "pythondata"
  },
  "language_info": {
   "codemirror_mode": {
    "name": "ipython",
    "version": 3
   },
   "file_extension": ".py",
   "mimetype": "text/x-python",
   "name": "python",
   "nbconvert_exporter": "python",
   "pygments_lexer": "ipython3",
   "version": "3.11.4"
  }
 },
 "nbformat": 4,
 "nbformat_minor": 5
}
