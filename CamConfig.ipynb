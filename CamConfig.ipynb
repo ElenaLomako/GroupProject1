{
 "cells": [
  {
   "cell_type": "code",
   "execution_count": null,
   "id": "734b92dd",
   "metadata": {},
   "outputs": [],
   "source": [
    "## Config file to save my API_KEY in \n",
    "\n",
    "api_key = \"DXtz9suKwWy5Xg5rz_X_\""
   ]
  }
 ],
 "metadata": {
  "kernelspec": {
   "display_name": "Python 3 (ipykernel)",
   "language": "python",
   "name": "python3"
  },
  "language_info": {
   "codemirror_mode": {
    "name": "ipython",
    "version": 3
   },
   "file_extension": ".py",
   "mimetype": "text/x-python",
   "name": "python",
   "nbconvert_exporter": "python",
   "pygments_lexer": "ipython3",
   "version": "3.11.4"
  }
 },
 "nbformat": 4,
 "nbformat_minor": 5
}
