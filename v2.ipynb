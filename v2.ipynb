{
 "cells": [
  {
   "cell_type": "code",
   "execution_count": 23,
   "id": "bee07d31",
   "metadata": {},
   "outputs": [],
   "source": [
    "\n",
    "import matplotlib.pyplot as plt\n",
    "import requests\n",
    "from scipy import stats\n",
    "import json\n",
    "import pandas as pd\n",
    "import csv\n",
    "\n",
    "from pprint import pprint"
   ]
  },
  {
   "cell_type": "code",
   "execution_count": 24,
   "id": "c3ca07c8",
   "metadata": {},
   "outputs": [],
   "source": [
    "\n",
    "tickers = [\"SPY\", \"GOOGL\", \"MSFT\", \"SPY\"]\n",
    "start_date = \"2000-01-01\"\n",
    "end_date = \"2022-12-31\"\n",
    "\n",
    "# Define the NASDAQ API URL\n",
    "base_url = \"https://data.nasdaq.com/api/v3/datatables/WIKI/PRICES?\"\n",
    "\n",
    "\n",
    "\n",
    "# Create an empty list to store the price data for each stock\n",
    "all_prices = []\n",
    "\n",
    "\n"
   ]
  },
  {
   "cell_type": "code",
   "execution_count": 25,
   "id": "b560a3cc",
   "metadata": {},
   "outputs": [
    {
     "name": "stdout",
     "output_type": "stream",
     "text": [
      "<Response [403]>\n",
      "Failed to retrieve data for stock symbol: AMZN\n",
      "<Response [403]>\n",
      "Failed to retrieve data for stock symbol: AMZN\n",
      "<Response [403]>\n",
      "Failed to retrieve data for stock symbol: AMZN\n",
      "<Response [403]>\n",
      "Failed to retrieve data for stock symbol: AMZN\n"
     ]
    }
   ],
   "source": [
    "# Loop through each stock symbol\n",
    "for ticker in tickers:\n",
    "    # Construct the API URL for the stock symbol\n",
    "    url = f\"{base_url}/{symbol}/data.json?api_key={api_key}&ticker={ticker}&qopts.columns=date,ticker,close&frequency=weekly&start_date={start_date}&end_date={end_date}\"\n",
    "    \n",
    "https://data.nasdaq.com/api/v3/datatables/WIKI/PRICES?date.gte=1997-02-01&date.lte=2017-01-01&ticker=ticker=A,AA,AAL,AAMC,AAN,AAOI,AAON,AAP,AAPL,AAT,AAWW,ABAX&qopts.columns=date,ticker,open,high,low,close,volume&api_key=YOURAPIKEY&qopts.export=true\n",
    "\n",
    "    \n",
    "    # Send a GET request to the API\n",
    "    response = requests.get(url)\n",
    "    print(response)\n",
    "    \n",
    "    # Check if the request was successful\n",
    "    if response.status_code == 200:\n",
    "        # Convert the response to JSON format\n",
    "        data = response.json()\n",
    "        \n",
    "        # Extract the weekly close prices\n",
    "        prices = data[\"dataset_data\"][\"data\"]\n",
    "        \n",
    "        # Append the prices to the list\n",
    "        all_prices.extend(prices)\n",
    "        \n",
    "    else:\n",
    "        print(f\"Failed to retrieve data for stock symbol: {symbol}\")\n",
    "\n"
   ]
  },
  {
   "cell_type": "code",
   "execution_count": 8,
   "id": "617fbc2a",
   "metadata": {},
   "outputs": [
    {
     "ename": "TypeError",
     "evalue": "'NoneType' object is not subscriptable",
     "output_type": "error",
     "traceback": [
      "\u001b[0;31m---------------------------------------------------------------------------\u001b[0m",
      "\u001b[0;31mTypeError\u001b[0m                                 Traceback (most recent call last)",
      "Cell \u001b[0;32mIn[8], line 9\u001b[0m\n\u001b[1;32m      6\u001b[0m writer \u001b[38;5;241m=\u001b[39m csv\u001b[38;5;241m.\u001b[39mwriter(csvfile)\n\u001b[1;32m      8\u001b[0m \u001b[38;5;66;03m# Write the column names to the CSV file\u001b[39;00m\n\u001b[0;32m----> 9\u001b[0m writer\u001b[38;5;241m.\u001b[39mwriterow(\u001b[43mdata\u001b[49m\u001b[43m[\u001b[49m\u001b[38;5;124;43m\"\u001b[39;49m\u001b[38;5;124;43mdataset_data\u001b[39;49m\u001b[38;5;124;43m\"\u001b[39;49m\u001b[43m]\u001b[49m[\u001b[38;5;124m\"\u001b[39m\u001b[38;5;124mcolumn_names\u001b[39m\u001b[38;5;124m\"\u001b[39m])\n\u001b[1;32m     11\u001b[0m \u001b[38;5;66;03m# Write each weekly price data row to the CSV file\u001b[39;00m\n\u001b[1;32m     12\u001b[0m \u001b[38;5;28;01mfor\u001b[39;00m price \u001b[38;5;129;01min\u001b[39;00m all_prices:\n",
      "\u001b[0;31mTypeError\u001b[0m: 'NoneType' object is not subscriptable"
     ]
    }
   ],
   "source": [
    "# Specify the output file name\n",
    "output_file = \"weekly_prices.csv\"\n",
    "\n",
    "# Write the data to a CSV file\n",
    "with open(output_file, \"w\", newline=\"\") as csvfile:\n",
    "    writer = csv.writer(csvfile)\n",
    "    \n",
    "    # Write the column names to the CSV file\n",
    "    writer.writerow(data[\"dataset_data\"][\"column_names\"])\n",
    "    \n",
    "    # Write each weekly price data row to the CSV file\n",
    "    for price in all_prices:\n",
    "        writer.writerow(price)\n",
    "        \n",
    "print(f\"CSV file '{output_file}' created successfully.\")"
   ]
  },
  {
   "cell_type": "code",
   "execution_count": null,
   "id": "3726be64",
   "metadata": {},
   "outputs": [],
   "source": []
  }
 ],
 "metadata": {
  "kernelspec": {
   "display_name": "Python 3 (ipykernel)",
   "language": "python",
   "name": "python3"
  },
  "language_info": {
   "codemirror_mode": {
    "name": "ipython",
    "version": 3
   },
   "file_extension": ".py",
   "mimetype": "text/x-python",
   "name": "python",
   "nbconvert_exporter": "python",
   "pygments_lexer": "ipython3",
   "version": "3.10.13"
  }
 },
 "nbformat": 4,
 "nbformat_minor": 5
}
