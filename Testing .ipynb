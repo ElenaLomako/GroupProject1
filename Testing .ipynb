{
 "cells": [
  {
   "cell_type": "code",
   "execution_count": 7,
   "id": "d0dc1768",
   "metadata": {},
   "outputs": [],
   "source": [
    "# Dependencies\n",
    "import requests \n",
    "import json\n",
    "import pandas as pd\n",
    "import matplotlib as plt \n",
    "import numpy as np\n",
    "\n",
    "# Import the API key\n",
    "from Camconfig import api_key"
   ]
  },
  {
   "cell_type": "code",
   "execution_count": 6,
   "id": "ea875f19",
   "metadata": {},
   "outputs": [
    {
     "name": "stdout",
     "output_type": "stream",
     "text": [
      "DXtz9suKwWy5Xg5rz_X_\n"
     ]
    }
   ],
   "source": [
    "ETFs = ['KARS', 'LIT', 'DIVE']\n"
   ]
  },
  {
   "cell_type": "code",
   "execution_count": null,
   "id": "ec075dbb",
   "metadata": {},
   "outputs": [],
   "source": []
  }
 ],
 "metadata": {
  "kernelspec": {
   "display_name": "PythonData",
   "language": "python",
   "name": "pythondata"
  },
  "language_info": {
   "codemirror_mode": {
    "name": "ipython",
    "version": 3
   },
   "file_extension": ".py",
   "mimetype": "text/x-python",
   "name": "python",
   "nbconvert_exporter": "python",
   "pygments_lexer": "ipython3",
   "version": "3.11.4"
  }
 },
 "nbformat": 4,
 "nbformat_minor": 5
}
