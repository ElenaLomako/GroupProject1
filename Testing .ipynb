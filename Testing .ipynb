{
 "cells": [
  {
   "cell_type": "code",
   "execution_count": 3,
   "id": "24ab6e84",
   "metadata": {},
   "outputs": [
    {
     "data": {
      "text/plain": [
       "'b4fdf78902msh07d83d3a4bc9ef8p1de8aejsnb607481e4176'"
      ]
     },
     "execution_count": 3,
     "metadata": {},
     "output_type": "execute_result"
    }
   ],
   "source": [
    "# Dependencies\n",
    "import requests \n",
    "import json\n",
    "import pandas as pd\n",
    "import matplotlib as plt \n",
    "import numpy as np\n",
    "\n",
    "# Import the API key\n",
    "from Camconfig import x_rapidapi_key\n",
    "x_rapidapi_key"
   ]
  },
  {
   "cell_type": "code",
   "execution_count": 6,
   "id": "0f807cda",
   "metadata": {},
   "outputs": [],
   "source": [
    "#Import CSV file containing all the Census Data\n",
    "#data_file =  \n",
    "\n",
    "#Display the data_file"
   ]
  },
  {
   "cell_type": "code",
   "execution_count": null,
   "id": "d8e762d7",
   "metadata": {},
   "outputs": [],
   "source": [
    "#Create a variable for the URL\n",
    "\n",
    "url = \"https://zillow56.p.rapidapi.com/search\"\n"
   ]
  },
  {
   "cell_type": "code",
   "execution_count": 3,
   "id": "3d7b527f",
   "metadata": {},
   "outputs": [
    {
     "name": "stdout",
     "output_type": "stream",
     "text": [
      "Beginning Data Retrieval     \n",
      "-----------------------------\n"
     ]
    },
    {
     "ename": "NameError",
     "evalue": "name 'cities' is not defined",
     "output_type": "error",
     "traceback": [
      "\u001b[0;31m---------------------------------------------------------------------------\u001b[0m",
      "\u001b[0;31mNameError\u001b[0m                                 Traceback (most recent call last)",
      "Cell \u001b[0;32mIn[3], line 13\u001b[0m\n\u001b[1;32m     10\u001b[0m set_count \u001b[38;5;241m=\u001b[39m \u001b[38;5;241m1\u001b[39m\n\u001b[1;32m     12\u001b[0m \u001b[38;5;66;03m# Loop through all the cities in our list to fetch house sale data\u001b[39;00m\n\u001b[0;32m---> 13\u001b[0m \u001b[38;5;28;01mfor\u001b[39;00m i, city \u001b[38;5;129;01min\u001b[39;00m \u001b[38;5;28menumerate\u001b[39m(cities):\n\u001b[1;32m     14\u001b[0m         \n\u001b[1;32m     15\u001b[0m     \u001b[38;5;66;03m# Group cities in sets of 50 for logging purposes\u001b[39;00m\n\u001b[1;32m     16\u001b[0m     \u001b[38;5;28;01mif\u001b[39;00m (i \u001b[38;5;241m%\u001b[39m \u001b[38;5;241m50\u001b[39m \u001b[38;5;241m==\u001b[39m \u001b[38;5;241m0\u001b[39m \u001b[38;5;129;01mand\u001b[39;00m i \u001b[38;5;241m>\u001b[39m\u001b[38;5;241m=\u001b[39m \u001b[38;5;241m50\u001b[39m):\n\u001b[1;32m     18\u001b[0m         set_count \u001b[38;5;241m+\u001b[39m\u001b[38;5;241m=\u001b[39m \u001b[38;5;241m1\u001b[39m\n",
      "\u001b[0;31mNameError\u001b[0m: name 'cities' is not defined"
     ]
    }
   ],
   "source": [
    "# Empty list for holding the state and country combination \n",
    "cities= []\n",
    "\n",
    "print(\"Beginning Data Retrieval     \")\n",
    "print(\"-----------------------------\")\n",
    "\n",
    "\n",
    "# Create counters\n",
    "record_count = 1\n",
    "set_count = 1\n",
    "\n",
    "# Loop through all the cities in our list to fetch house sale data\n",
    "for i, city in enumerate(cities):\n",
    "        \n",
    "    # Group cities in sets of 50 for logging purposes\n",
    "    if (i % 50 == 0 and i >= 50):\n",
    "\n",
    "        set_count += 1\n",
    "        record_count = 0"
   ]
  },
  {
   "cell_type": "code",
   "execution_count": 2,
   "id": "c55e7818",
   "metadata": {},
   "outputs": [
    {
     "ename": "NameError",
     "evalue": "name 'ETFs' is not defined",
     "output_type": "error",
     "traceback": [
      "\u001b[0;31m---------------------------------------------------------------------------\u001b[0m",
      "\u001b[0;31mNameError\u001b[0m                                 Traceback (most recent call last)",
      "Cell \u001b[0;32mIn[2], line 1\u001b[0m\n\u001b[0;32m----> 1\u001b[0m \u001b[38;5;28;01mfor\u001b[39;00m ticker \u001b[38;5;129;01min\u001b[39;00m ETFs:\n\u001b[1;32m      2\u001b[0m     \u001b[38;5;66;03m# Construct the API URL for the stock symbol\u001b[39;00m\n\u001b[1;32m      3\u001b[0m     url \u001b[38;5;241m=\u001b[39m \u001b[38;5;124mf\u001b[39m\u001b[38;5;124m\"\u001b[39m\u001b[38;5;132;01m{\u001b[39;00mbase_url\u001b[38;5;132;01m}\u001b[39;00m\u001b[38;5;124m/\u001b[39m\u001b[38;5;132;01m{\u001b[39;00mticker\u001b[38;5;132;01m}\u001b[39;00m\u001b[38;5;124m/data.json?api_key=\u001b[39m\u001b[38;5;132;01m{\u001b[39;00mapi_key\u001b[38;5;132;01m}\u001b[39;00m\u001b[38;5;124m&ticker=\u001b[39m\u001b[38;5;132;01m{\u001b[39;00mticker\u001b[38;5;132;01m}\u001b[39;00m\u001b[38;5;124m&qopts.columns=date,ticker,close&frequency=weekly&start_date=\u001b[39m\u001b[38;5;132;01m{\u001b[39;00mstart_date\u001b[38;5;132;01m}\u001b[39;00m\u001b[38;5;124m&end_date=\u001b[39m\u001b[38;5;132;01m{\u001b[39;00mend_date\u001b[38;5;132;01m}\u001b[39;00m\u001b[38;5;124m\"\u001b[39m\n\u001b[1;32m      6\u001b[0m     \u001b[38;5;66;03m# Send a GET request to the API\u001b[39;00m\n",
      "\u001b[0;31mNameError\u001b[0m: name 'ETFs' is not defined"
     ]
    }
   ],
   "source": [
    "for ticker in ETFs:\n",
    "    # Construct the API URL for the stock symbol\n",
    "    url = f\"{base_url}/{ticker}/data.json?api_key={api_key}&ticker={ticker}&qopts.columns=date,ticker,close&frequency=weekly&start_date={start_date}&end_date={end_date}\"\n",
    "    \n",
    "    # Send a GET request to the API\n",
    "    response = requests.get(url)\n",
    "    \n",
    "    if response.status_code == 200:\n",
    "    # Successful response\n",
    "        data = response.json()\n",
    "    # Process the data\n",
    "    else:\n",
    "        if response.status_code == 403:\n",
    "            print(\"Error: Forbidden - Insufficient permissions or authentication issue.\")\n",
    "        else:\n",
    "            print(f\"Error: HTTP Status Code {response.status_code}\")\n",
    "            \n"
   ]
  },
  {
   "cell_type": "code",
   "execution_count": null,
   "id": "e4f2e75c",
   "metadata": {},
   "outputs": [],
   "source": []
  }
 ],
 "metadata": {
  "kernelspec": {
   "display_name": "PythonData",
   "language": "python",
   "name": "pythondata"
  },
  "language_info": {
   "codemirror_mode": {
    "name": "ipython",
    "version": 3
   },
   "file_extension": ".py",
   "mimetype": "text/x-python",
   "name": "python",
   "nbconvert_exporter": "python",
   "pygments_lexer": "ipython3",
   "version": "3.11.4"
  }
 },
 "nbformat": 4,
 "nbformat_minor": 5
}
