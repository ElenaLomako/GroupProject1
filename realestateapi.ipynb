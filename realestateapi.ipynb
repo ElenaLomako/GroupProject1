{
 "cells": [
  {
   "cell_type": "code",
   "execution_count": 4,
   "id": "24ab6e84",
   "metadata": {},
   "outputs": [
    {
     "data": {
      "text/plain": [
       "'b4fdf78902msh07d83d3a4bc9ef8p1de8aejsnb607481e4176'"
      ]
     },
     "execution_count": 4,
     "metadata": {},
     "output_type": "execute_result"
    }
   ],
   "source": [
    "# Dependencies\n",
    "import requests \n",
    "import json\n",
    "import pandas as pd\n",
    "import matplotlib as plt \n",
    "import numpy as np\n",
    "\n",
    "# Import the API key\n",
    "from Camconfig import x_rapidapi_key\n",
    "#from census_data import county_sorted_df\n",
    "\n",
    "x_rapidapi_key"
   ]
  },
  {
   "cell_type": "code",
   "execution_count": 5,
   "id": "0f807cda",
   "metadata": {},
   "outputs": [
    {
     "ename": "NameError",
     "evalue": "name 'Path' is not defined",
     "output_type": "error",
     "traceback": [
      "\u001b[0;31m---------------------------------------------------------------------------\u001b[0m",
      "\u001b[0;31mNameError\u001b[0m                                 Traceback (most recent call last)",
      "Cell \u001b[0;32mIn[5], line 3\u001b[0m\n\u001b[1;32m      1\u001b[0m \u001b[38;5;66;03m#Import CSV file containing all the Census Data\u001b[39;00m\n\u001b[1;32m      2\u001b[0m \u001b[38;5;66;03m#data_file =  \u001b[39;00m\n\u001b[0;32m----> 3\u001b[0m census_data_csv \u001b[38;5;241m=\u001b[39m Path(\u001b[38;5;124m\"\u001b[39m\u001b[38;5;124mData/censusdata.csv\u001b[39m\u001b[38;5;124m\"\u001b[39m)\n\u001b[1;32m      4\u001b[0m census_data_df \u001b[38;5;241m=\u001b[39m pd\u001b[38;5;241m.\u001b[39mread_csv(census_data_csv, encoding\u001b[38;5;241m=\u001b[39m\u001b[38;5;124m'\u001b[39m\u001b[38;5;124mlatin-1\u001b[39m\u001b[38;5;124m'\u001b[39m)\n\u001b[1;32m      6\u001b[0m city_data_df \u001b[38;5;241m=\u001b[39m census_data_df[[\u001b[38;5;124m'\u001b[39m\u001b[38;5;124mCOUNTY\u001b[39m\u001b[38;5;124m'\u001b[39m, \u001b[38;5;124m'\u001b[39m\u001b[38;5;124mSTNAME\u001b[39m\u001b[38;5;124m'\u001b[39m, \u001b[38;5;124m'\u001b[39m\u001b[38;5;124mCTYNAME\u001b[39m\u001b[38;5;124m'\u001b[39m, \u001b[38;5;124m'\u001b[39m\u001b[38;5;124mLng\u001b[39m\u001b[38;5;124m'\u001b[39m, \u001b[38;5;124m'\u001b[39m\u001b[38;5;124mHumidity\u001b[39m\u001b[38;5;124m'\u001b[39m]]\u001b[38;5;241m.\u001b[39mcopy()\n",
      "\u001b[0;31mNameError\u001b[0m: name 'Path' is not defined"
     ]
    }
   ],
   "source": [
    "#Import CSV file containing all the Census Data\n",
    "#data_file =  \n",
    "census_data_csv = Path(\"Data/censusdata.csv\")\n",
    "census_data_df = pd.read_csv(census_data_csv, encoding='latin-1')\n",
    "\n",
    "city_data_df = census_data_df[['COUNTY', 'STNAME', 'CTYNAME'].copy()\n",
    "\n",
    "city_data_df['Year', 'Homes Sold', 'AVG Price of Home']  = ''\n",
    "\n",
    "#Display the data_file\n",
    "city_data_df"
   ]
  },
  {
   "cell_type": "code",
   "execution_count": 20,
   "id": "d8e762d7",
   "metadata": {},
   "outputs": [
    {
     "ename": "IndentationError",
     "evalue": "expected an indented block after 'if' statement on line 10 (2858644709.py, line 13)",
     "output_type": "error",
     "traceback": [
      "\u001b[0;36m  Cell \u001b[0;32mIn[20], line 13\u001b[0;36m\u001b[0m\n\u001b[0;31m    else:\u001b[0m\n\u001b[0m    ^\u001b[0m\n\u001b[0;31mIndentationError\u001b[0m\u001b[0;31m:\u001b[0m expected an indented block after 'if' statement on line 10\n"
     ]
    }
   ],
   "source": [
    "#Create a variable for the URL\n",
    "\n",
    "base_url = \"https://ffiec.cfpb.gov/v2/data-browser-api/data-browser-api/view/aggregations\"\n",
    "\n",
    "base_url\n",
    "\n",
    "test = requests.get(base_url)\n",
    "\n",
    "response = test.json()\n",
    "if test.status_code == 200:\n",
    "# The request was successful, proceed with parsing JSON.\n",
    "\n",
    "else:\n",
    "    # Handle the error or print the response content for debugging.\n",
    "    print(f\"Request failed with status code {test.status_code}\")\n",
    "    print(test.text)  # Print the response content for debugging."
   ]
  },
  {
   "cell_type": "code",
   "execution_count": 7,
   "id": "3d7b527f",
   "metadata": {},
   "outputs": [
    {
     "ename": "NameError",
     "evalue": "name 'categories' is not defined",
     "output_type": "error",
     "traceback": [
      "\u001b[0;31m---------------------------------------------------------------------------\u001b[0m",
      "\u001b[0;31mNameError\u001b[0m                                 Traceback (most recent call last)",
      "Cell \u001b[0;32mIn[7], line 9\u001b[0m\n\u001b[1;32m      1\u001b[0m \u001b[38;5;66;03m# Empty list for holding the state and county combination \u001b[39;00m\n\u001b[1;32m      2\u001b[0m \u001b[38;5;66;03m# Set parameters to search for home sales data\u001b[39;00m\n\u001b[1;32m      3\u001b[0m \n\u001b[1;32m      4\u001b[0m \n\u001b[1;32m      5\u001b[0m \u001b[38;5;66;03m#categories = 'accommodation.hotel'\u001b[39;00m\n\u001b[1;32m      6\u001b[0m radius \u001b[38;5;241m=\u001b[39m \u001b[38;5;241m1000000\u001b[39m\n\u001b[1;32m      7\u001b[0m params \u001b[38;5;241m=\u001b[39m {\n\u001b[1;32m      8\u001b[0m     \u001b[38;5;124m\"\u001b[39m\u001b[38;5;124mapiKey\u001b[39m\u001b[38;5;124m\"\u001b[39m : x_rapidapi_key,\n\u001b[0;32m----> 9\u001b[0m     \u001b[38;5;124m\"\u001b[39m\u001b[38;5;124mcategories\u001b[39m\u001b[38;5;124m\"\u001b[39m: categories\n\u001b[1;32m     10\u001b[0m }\n\u001b[1;32m     12\u001b[0m \u001b[38;5;66;03m#starting home data collection\u001b[39;00m\n\u001b[1;32m     13\u001b[0m \u001b[38;5;28mprint\u001b[39m(\u001b[38;5;124m\"\u001b[39m\u001b[38;5;124mStarting data search\u001b[39m\u001b[38;5;124m\"\u001b[39m)\n",
      "\u001b[0;31mNameError\u001b[0m: name 'categories' is not defined"
     ]
    }
   ],
   "source": [
    "# Empty list for holding the state and county combination \n",
    "# Set parameters to search for home sales data\n",
    "\n",
    "\n",
    "#categories = 'accommodation.hotel'\n",
    "#params1 = \n",
    "#param 2 = \n",
    "params = {\n",
    "    \"apiKey\" : x_rapidapi_key,\n",
    "    \"params1\": categories\n",
    "    \"params2\"\n",
    "}\n",
    "\n",
    "#starting home data collection\n",
    "print(\"Starting data search\")\n",
    "\n",
    "for index, row in city_data_df.iterrows():\n",
    "    state = row['STNAME']\n",
    "    county = row['CTYNAME']\n",
    "    \n",
    "     # Set base URL\n",
    "    base_url = \"https://zillow56.p.rapidapi.com/search\"\n",
    "\n",
    "    # Make and API request using the params dictionaty\n",
    "    state_city = requests.get(base_url, params=params)\n",
    "    \n",
    "    # Convert the API response to JSON format\n",
    "    state_city  = name_address.json()\n",
    "    \n",
    "    if response.status_code == 200:\n",
    "    # Successful response\n",
    "        data = response.json()\n",
    "    # Process the data\n",
    "    else:\n",
    "        if response.status_code == 403:\n",
    "            print(\"Error: Forbidden - Insufficient permissions or authentication issue.\")\n",
    "        else:\n",
    "            print(f\"Error: HTTP Status Code {response.status_code}\")\n",
    "            \n",
    "    "
   ]
  },
  {
   "cell_type": "code",
   "execution_count": null,
   "id": "e4f2e75c",
   "metadata": {},
   "outputs": [],
   "source": [
    "# Narrow down cities that fit criteria and drop any results with null values\n",
    "#A max temperature lower than 27 degrees but higher than 21\n",
    "#Wind speed less than 4.5 m/s\n",
    "#Zero cloudiness"
   ]
  }
 ],
 "metadata": {
  "kernelspec": {
   "display_name": "PythonData",
   "language": "python",
   "name": "pythondata"
  },
  "language_info": {
   "codemirror_mode": {
    "name": "ipython",
    "version": 3
   },
   "file_extension": ".py",
   "mimetype": "text/x-python",
   "name": "python",
   "nbconvert_exporter": "python",
   "pygments_lexer": "ipython3",
   "version": "3.11.4"
  }
 },
 "nbformat": 4,
 "nbformat_minor": 5
}
